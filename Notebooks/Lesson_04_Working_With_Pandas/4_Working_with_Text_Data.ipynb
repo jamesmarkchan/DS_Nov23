{
 "cells": [
  {
   "cell_type": "markdown",
   "id": "3ac1f235-a802-42a8-8508-3e9eccde56ed",
   "metadata": {},
   "source": [
    "# __Working with Text Data in Pandas__\n",
    "\n",
    "## __Agenda__\n",
    "\n",
    "In this lesson, we will cover the following concepts with the help of examples:\n",
    "\n",
    "- Text Data in Pandas\n",
    "- Iteration\n",
    "  * Iterating over Rows\n",
    "  * Applying a Function to Each Element\n",
    "  * Vectorized Operations\n",
    "  * Iterating over Series\n",
    "- Sorting\n",
    "  * Sorting DataFrame by Column\n",
    "  * Sorting DataFrame by Multiple Columns\n",
    "  * Sorting DataFrame by Index\n",
    "  * Sorting a Series\n",
    "- Plotting with Pandas"
   ]
  },
  {
   "cell_type": "markdown",
   "id": "4b4e0cab-099d-41a8-9968-67b821e3b86d",
   "metadata": {},
   "source": [
    "### __1. Text Data in Pandas__\n",
    "\n",
    "Working with text data in Pandas involves various operations to manipulate and analyze textual information. Here are some common text data operations using Pandas:"
   ]
  },
  {
   "cell_type": "code",
   "execution_count": 1,
   "id": "0103555d-7d01-47e2-8ca5-2b05564278e5",
   "metadata": {},
   "outputs": [
    {
     "name": "stdout",
     "output_type": "stream",
     "text": [
      "Length of each string:\n",
      "         Column  Length\n",
      "0         Hello       5\n",
      "1         World       5\n",
      "2        Python       6\n",
      "3  Data Science      12\n"
     ]
    }
   ],
   "source": [
    "# Assuming 'df' is DataFrame with a 'Column' containing text data\n",
    "import pandas as pd\n",
    "\n",
    "df = pd.DataFrame({'Column': ['Hello', 'World', 'Python', 'Data Science']})\n",
    "\n",
    "# Calculates the length of each string\n",
    "df['Length'] = df['Column'].str.len()\n",
    "print(\"Length of each string:\")\n",
    "print(df[['Column', 'Length']])\n"
   ]
  },
  {
   "cell_type": "code",
   "execution_count": 2,
   "id": "fa533b07-9bee-4b69-8f7f-6c3aca64e76a",
   "metadata": {},
   "outputs": [
    {
     "name": "stdout",
     "output_type": "stream",
     "text": [
      "\n",
      "Text in lowercase:\n",
      "         Column     Lowercase\n",
      "0         Hello         hello\n",
      "1         World         world\n",
      "2        Python        python\n",
      "3  Data Science  data science\n"
     ]
    }
   ],
   "source": [
    "# Assuming 'df' is DataFrame with a 'Column' containing text data\n",
    "df = pd.DataFrame({'Column': ['Hello', 'World', 'Python', 'Data Science']})\n",
    "\n",
    "# Converts text to lowercase\n",
    "df['Lowercase'] = df['Column'].str.lower()\n",
    "print(\"\\nText in lowercase:\")\n",
    "print(df[['Column', 'Lowercase']])\n"
   ]
  },
  {
   "cell_type": "code",
   "execution_count": 3,
   "id": "85a64573-3a36-42ac-8e01-3752fed9969c",
   "metadata": {},
   "outputs": [
    {
     "name": "stdout",
     "output_type": "stream",
     "text": [
      "\n",
      "Contains substring 'Data':\n",
      "         Column  ContainsSubstring\n",
      "0         Hello              False\n",
      "1         World              False\n",
      "2        Python              False\n",
      "3  Data Science               True\n"
     ]
    }
   ],
   "source": [
    "# Assuming 'df' is DataFrame with a 'Column' containing text data\n",
    "df = pd.DataFrame({'Column': ['Hello', 'World', 'Python', 'Data Science']})\n",
    "\n",
    "# Checks if each string contains the specified substring\n",
    "substring = 'Data'\n",
    "df['ContainsSubstring'] = df['Column'].str.contains(substring)\n",
    "print(\"\\nContains substring 'Data':\")\n",
    "print(df[['Column', 'ContainsSubstring']])\n"
   ]
  },
  {
   "cell_type": "markdown",
   "id": "ebaa3489-b22c-4c3e-a3fd-6f2492de0a7c",
   "metadata": {},
   "source": [
    "## __2. Iteration__"
   ]
  },
  {
   "cell_type": "markdown",
   "id": "8b68905e-257e-4197-a592-c2656790385b",
   "metadata": {},
   "source": [
    "Iteration in Pandas typically involves traversing through the rows or elements of a DataFrame or Series. \n",
    "- However, it is important to note that direct iteration over DataFrame rows using Python's for loop is generally discouraged due to performance reasons. \n",
    "- Instead, Pandas provides efficient methods for iteration and applying functions to DataFrame elements."
   ]
  },
  {
   "attachments": {
    "6a6a1846-b952-488f-aaa4-f52af904864c.png": {
     "image/png": "[encoded data removed]"
    }
   },
   "cell_type": "markdown",
   "id": "9061737a-8b27-4b74-b39a-0c2cf6e28e51",
   "metadata": {},
   "source": [
    "![image.png](attachment:6a6a1846-b952-488f-aaa4-f52af904864c.png)"
   ]
  },
  {
   "cell_type": "markdown",
   "id": "b174ebf6-d371-4743-ad51-1c8fe8a64f24",
   "metadata": {},
   "source": [
    "### __2.1 Iterating over Rows__"
   ]
  },
  {
   "cell_type": "code",
   "execution_count": 4,
   "id": "5c8e5a78-0f02-435b-9e22-0fa3bc092a02",
   "metadata": {},
   "outputs": [
    {
     "name": "stdout",
     "output_type": "stream",
     "text": [
      "Index: 0, Data: 1, A\n",
      "Index: 1, Data: 2, B\n",
      "Index: 2, Data: 3, C\n"
     ]
    }
   ],
   "source": [
    "import pandas as pd\n",
    "\n",
    "# Assuming 'df' is your DataFrame with columns 'Column1' and 'Column2'\n",
    "df = pd.DataFrame({'Column1': [1, 2, 3], 'Column2': ['A', 'B', 'C']})\n",
    "\n",
    "for index, row in df.iterrows():\n",
    "    print(f\"Index: {index}, Data: {row['Column1']}, {row['Column2']}\")\n"
   ]
  },
  {
   "cell_type": "markdown",
   "id": "f8c904cc-995a-4af9-87f7-19a8e82ebdef",
   "metadata": {},
   "source": [
    "### __2.2 Applying a Function to Each Element__"
   ]
  },
  {
   "cell_type": "code",
   "execution_count": 5,
   "id": "660ead07-4caf-4039-bb8e-346cec70c4a9",
   "metadata": {},
   "outputs": [
    {
     "name": "stdout",
     "output_type": "stream",
     "text": [
      "   ExistingColumn  NewColumn\n",
      "0              10         20\n",
      "1              20         40\n",
      "2              30         60\n"
     ]
    }
   ],
   "source": [
    "# Assuming 'df' is your DataFrame with 'ExistingColumn'\n",
    "df = pd.DataFrame({'ExistingColumn': [10, 20, 30]})\n",
    "\n",
    "df['NewColumn'] = df['ExistingColumn'].apply(lambda x: x * 2)\n",
    "print(df)\n"
   ]
  },
  {
   "cell_type": "markdown",
   "id": "ed42ddaa-4bba-46c5-9b8a-a7d0b910c04b",
   "metadata": {},
   "source": [
    "### __2.3 Vectorized Operations__"
   ]
  },
  {
   "cell_type": "code",
   "execution_count": 6,
   "id": "bd599fb0-c25b-4bb8-a7b3-91df35a1daaa",
   "metadata": {},
   "outputs": [
    {
     "name": "stdout",
     "output_type": "stream",
     "text": [
      "   ColumnA  ColumnB  ResultColumn\n",
      "0        1        4             5\n",
      "1        2        5             7\n",
      "2        3        6             9\n"
     ]
    }
   ],
   "source": [
    "# Assuming 'df' is your DataFrame with 'ColumnA' and 'ColumnB'\n",
    "df = pd.DataFrame({'ColumnA': [1, 2, 3], 'ColumnB': [4, 5, 6]})\n",
    "\n",
    "df['ResultColumn'] = df['ColumnA'] + df['ColumnB']\n",
    "print(df)"
   ]
  },
  {
   "cell_type": "markdown",
   "id": "ef8c2880-e8c7-4a6a-9782-d392ff898948",
   "metadata": {},
   "source": [
    "### __2.4 Iterating over Series__"
   ]
  },
  {
   "cell_type": "code",
   "execution_count": 8,
   "id": "800688f5-28ae-4d68-8ace-b1838128ad96",
   "metadata": {},
   "outputs": [
    {
     "name": "stdout",
     "output_type": "stream",
     "text": [
      "Index: 0, Value: 10\n",
      "Index: 1, Value: 20\n",
      "Index: 2, Value: 30\n"
     ]
    }
   ],
   "source": [
    "# Assuming 'series' is your Pandas Series\n",
    "series = pd.Series([10, 20, 30], name='Values')\n",
    "\n",
    "for index, value in series.items():\n",
    "    print(f\"Index: {index}, Value: {value}\")"
   ]
  },
  {
   "attachments": {
    "8e942634-2dc9-459e-b9f9-726ca9073afa.png": {
     "image/png": "[encoded data removed]"
    }
   },
   "cell_type": "markdown",
   "id": "ce5bf870-426f-4c15-8b3a-0028902b75f6",
   "metadata": {},
   "source": [
    "## __3. Sorting__\n",
    "Sorting in Pandas involves arranging the elements of a DataFrame or Series based on specific criteria, such as column values or indices. \n",
    "\n",
    "![image.png](attachment:8e942634-2dc9-459e-b9f9-726ca9073afa.png)"
   ]
  },
  {
   "cell_type": "markdown",
   "id": "046a75b3-63cc-4b57-8d7b-9dcff2ae2e7c",
   "metadata": {},
   "source": [
    "### __3.1 Sorting DataFrame by Column__"
   ]
  },
  {
   "cell_type": "code",
   "execution_count": null,
   "id": "79191d3c-3b9e-4484-a43d-126711b5cf10",
   "metadata": {},
   "outputs": [
    {
     "name": "stdout",
     "output_type": "stream",
     "text": [
      "Sorted DataFrame by Age:\n",
      "       Name  Age  Salary\n",
      "1      Bob   22   60000\n",
      "0    Alice   25   50000\n",
      "2  Charlie   30   75000\n"
     ]
    }
   ],
   "source": [
    "# Create a sample DataFrame\n",
    "df = pd.DataFrame({'Name': ['Alice', 'Bob', 'Charlie'],\n",
    "                   'Age': [25, 22, 30],\n",
    "                   'Salary': [50000, 60000, 75000]})\n",
    "\n",
    "# Sort DataFrame by the 'Age' column in ascending order\n",
    "df_sorted = df.sort_values(by='Age')\n",
    "print(\"Sorted DataFrame by Age:\\n\", df_sorted)"
   ]
  },
  {
   "cell_type": "markdown",
   "id": "5da5639d-46b3-40bf-9760-3bb5e1074a41",
   "metadata": {},
   "source": [
    "### __3.2 Sorting DataFrame by Multiple Columns__"
   ]
  },
  {
   "cell_type": "code",
   "execution_count": null,
   "id": "7a3c5260-a9c9-460a-b7e0-6087f5ec0ab0",
   "metadata": {},
   "outputs": [
    {
     "name": "stdout",
     "output_type": "stream",
     "text": [
      "\n",
      "Sorted DataFrame by Age and Salary:\n",
      "       Name  Age  Salary\n",
      "1      Bob   22   60000\n",
      "0    Alice   25   50000\n",
      "2  Charlie   30   75000\n"
     ]
    }
   ],
   "source": [
    "# Sort DataFrame by 'Age' in ascending order, then by 'Salary' in descending order\n",
    "df_sorted_multi = df.sort_values(by=['Age', 'Salary'], ascending=[True, False])\n",
    "print(\"\\nSorted DataFrame by Age and Salary:\\n\", df_sorted_multi)\n"
   ]
  },
  {
   "cell_type": "markdown",
   "id": "e96939ca-6dad-458b-9472-4a3206c3854b",
   "metadata": {},
   "source": [
    "### __3.3 Sorting DataFrame by Index__"
   ]
  },
  {
   "cell_type": "code",
   "execution_count": null,
   "id": "39e8a714-5942-4e54-91e2-0c79d00c140d",
   "metadata": {},
   "outputs": [
    {
     "name": "stdout",
     "output_type": "stream",
     "text": [
      "\n",
      "Sorted DataFrame by Index:\n",
      "       Name  Age  Salary\n",
      "2  Charlie   30   75000\n",
      "1      Bob   22   60000\n",
      "0    Alice   25   50000\n"
     ]
    }
   ],
   "source": [
    "# Sort DataFrame by index in descending order\n",
    "df_sorted_index = df.sort_index(ascending=False)\n",
    "print(\"\\nSorted DataFrame by Index:\\n\", df_sorted_index)\n"
   ]
  },
  {
   "cell_type": "markdown",
   "id": "fd3589ab-a3de-4b86-8323-b12a91e99291",
   "metadata": {},
   "source": [
    "### __3.4 Sorting a Series__"
   ]
  },
  {
   "cell_type": "code",
   "execution_count": null,
   "id": "a602a207-7e45-4f73-8b12-80d9e5bf2754",
   "metadata": {},
   "outputs": [
    {
     "name": "stdout",
     "output_type": "stream",
     "text": [
      "\n",
      "Sorted Series by Age:\n",
      " Charlie    30\n",
      "Alice      25\n",
      "Bob        22\n",
      "Name: Age, dtype: int64\n"
     ]
    }
   ],
   "source": [
    "# Create a sample Series\n",
    "series = pd.Series([25, 22, 30], index=['Alice', 'Bob', 'Charlie'], name='Age')\n",
    "\n",
    "# Sort Series in descending order\n",
    "series_sorted = series.sort_values(ascending=False)\n",
    "print(\"\\nSorted Series by Age:\\n\", series_sorted)\n"
   ]
  },
  {
   "cell_type": "markdown",
   "id": "f8d5b2d7-6107-41c0-be03-de05e961c973",
   "metadata": {},
   "source": [
    "## __4. Plotting with Pandas__\n",
    "Plotting data is required to visualize the data in Python. Python uses the plot method in pandas to create plots; there are many types of plots available in pandas."
   ]
  },
  {
   "cell_type": "code",
   "execution_count": 22,
   "id": "7cf1cce8-340a-40ce-8b81-849181ea0a9d",
   "metadata": {},
   "outputs": [
    {
     "data": {
      "text/html": [
       "<div>\n",
       "<style scoped>\n",
       "    .dataframe tbody tr th:only-of-type {\n",
       "        vertical-align: middle;\n",
       "    }\n",
       "\n",
       "    .dataframe tbody tr th {\n",
       "        vertical-align: top;\n",
       "    }\n",
       "\n",
       "    .dataframe thead th {\n",
       "        text-align: right;\n",
       "    }\n",
       "</style>\n",
       "<table border=\"1\" class=\"dataframe\">\n",
       "  <thead>\n",
       "    <tr style=\"text-align: right;\">\n",
       "      <th></th>\n",
       "      <th>A</th>\n",
       "      <th>B</th>\n",
       "    </tr>\n",
       "  </thead>\n",
       "  <tbody>\n",
       "    <tr>\n",
       "      <th>0</th>\n",
       "      <td>1</td>\n",
       "      <td>5</td>\n",
       "    </tr>\n",
       "    <tr>\n",
       "      <th>1</th>\n",
       "      <td>2</td>\n",
       "      <td>4</td>\n",
       "    </tr>\n",
       "    <tr>\n",
       "      <th>2</th>\n",
       "      <td>3</td>\n",
       "      <td>3</td>\n",
       "    </tr>\n",
       "    <tr>\n",
       "      <th>3</th>\n",
       "      <td>4</td>\n",
       "      <td>2</td>\n",
       "    </tr>\n",
       "    <tr>\n",
       "      <th>4</th>\n",
       "      <td>5</td>\n",
       "      <td>1</td>\n",
       "    </tr>\n",
       "  </tbody>\n",
       "</table>\n",
       "</div>"
      ],
      "text/plain": [
       "   A  B\n",
       "0  1  5\n",
       "1  2  4\n",
       "2  3  3\n",
       "3  4  2\n",
       "4  5  1"
      ]
     },
     "metadata": {},
     "output_type": "display_data"
    },
    {
     "data": {
      "image/png": "[encoded data removed]",
      "text/plain": [
       "<Figure size 640x480 with 1 Axes>"
      ]
     },
     "metadata": {},
     "output_type": "display_data"
    }
   ],
   "source": [
    "import pandas as pd\n",
    "import matplotlib.pyplot as plt\n",
    "\n",
    "# Create a sample DataFrame\n",
    "data = {'A': [1, 2, 3, 4, 5], 'B': [5, 4, 3, 2, 1]}\n",
    "df = pd.DataFrame(data)\n",
    "display(df)\n",
    "\n",
    "# Plot a line chart\n",
    "df.plot()\n",
    "\n",
    "plt.show()"
   ]
  },
  {
   "cell_type": "code",
   "execution_count": null,
   "id": "9d80dcca-2a6b-4b91-84b0-618a6b3aecec",
   "metadata": {},
   "outputs": [
    {
     "data": {
      "image/png": "[encoded data removed]",
      "text/plain": [
       "<Figure size 432x288 with 1 Axes>"
      ]
     },
     "metadata": {
      "needs_background": "light"
     },
     "output_type": "display_data"
    }
   ],
   "source": [
    "# Plot a bar chart\n",
    "df.plot(kind='bar')\n",
    "plt.show()\n"
   ]
  },
  {
   "cell_type": "markdown",
   "id": "414bc8c6-7f95-4d39-8cff-929e89d8503c",
   "metadata": {},
   "source": [
    "# __Assisted Practice__"
   ]
  },
  {
   "cell_type": "markdown",
   "id": "27541f6e-5d9e-4ae6-9c76-800a777b72b6",
   "metadata": {},
   "source": [
    "## __Problem Statement:__\n",
    "Create a detailed report on the monthly weather data by performing text manipulation, data sorting, and visualization to analyze temperature and precipitation trends.\n",
    "\n",
    "__Data:__\n",
    "The dataset contains daily observations of temperature and precipitation over a month.\n",
    "\n",
    "## __Steps to Perform:__\n",
    "\n",
    "1. Textual manipulation\n",
    "- Convert 'Day' to a string format with appropriate suffixes (1st, 2nd, 3rd, and so on)\n",
    "- Classify 'Temperature' into categories (Low, Medium, High) based on predefined thresholds\n",
    "- Determine if 'Precipitation' falls under 'Light', 'Moderate', or 'Heavy' rainfall\n",
    "\n",
    "2. Iteration and data aggregation\n",
    "- Iterate over the DataFrame to calculate weekly averages of temperature and precipitation\n",
    "- Summarize findings in a new DataFrame\n",
    "\n",
    "3. Sorting\n",
    "- Sort the DataFrame by 'Temperature' and 'Precipitation' in ascending and descending order\n",
    "- Sort the DataFrame by the day of the month\n",
    "\n",
    "4. Plotting\n",
    "- Create a line plot for temperature trends\n",
    "- Create a bar plot to compare precipitation levels across the month"
   ]
  },
  {
   "cell_type": "code",
   "execution_count": 35,
   "id": "cd543692",
   "metadata": {},
   "outputs": [
    {
     "name": "stdout",
     "output_type": "stream",
     "text": [
      "  Day  Temperature  Precipitation\n",
      "0   1    23.232203       2.645556\n",
      "1   2    25.727840       7.742337\n",
      "2   3    24.041451       4.561503\n",
      "3   4    23.173248       5.684339\n",
      "4   5    21.354822       0.187898\n",
      "<class 'pandas.core.frame.DataFrame'>\n",
      "RangeIndex: 30 entries, 0 to 29\n",
      "Data columns (total 3 columns):\n",
      " #   Column         Non-Null Count  Dtype  \n",
      "---  ------         --------------  -----  \n",
      " 0   Day            30 non-null     string \n",
      " 1   Temperature    30 non-null     float64\n",
      " 2   Precipitation  30 non-null     float64\n",
      "dtypes: float64(2), string(1)\n",
      "memory usage: 848.0 bytes\n"
     ]
    },
    {
     "data": {
      "text/html": [
       "<div>\n",
       "<style scoped>\n",
       "    .dataframe tbody tr th:only-of-type {\n",
       "        vertical-align: middle;\n",
       "    }\n",
       "\n",
       "    .dataframe tbody tr th {\n",
       "        vertical-align: top;\n",
       "    }\n",
       "\n",
       "    .dataframe thead th {\n",
       "        text-align: right;\n",
       "    }\n",
       "</style>\n",
       "<table border=\"1\" class=\"dataframe\">\n",
       "  <thead>\n",
       "    <tr style=\"text-align: right;\">\n",
       "      <th></th>\n",
       "      <th>Temperature</th>\n",
       "      <th>Precipitation</th>\n",
       "    </tr>\n",
       "  </thead>\n",
       "  <tbody>\n",
       "    <tr>\n",
       "      <th>count</th>\n",
       "      <td>30.000000</td>\n",
       "      <td>30.000000</td>\n",
       "    </tr>\n",
       "    <tr>\n",
       "      <th>mean</th>\n",
       "      <td>23.716805</td>\n",
       "      <td>4.517062</td>\n",
       "    </tr>\n",
       "    <tr>\n",
       "      <th>std</th>\n",
       "      <td>4.274455</td>\n",
       "      <td>2.567699</td>\n",
       "    </tr>\n",
       "    <tr>\n",
       "      <th>min</th>\n",
       "      <td>15.303276</td>\n",
       "      <td>0.187898</td>\n",
       "    </tr>\n",
       "    <tr>\n",
       "      <th>25%</th>\n",
       "      <td>21.407069</td>\n",
       "      <td>2.466421</td>\n",
       "    </tr>\n",
       "    <tr>\n",
       "      <th>50%</th>\n",
       "      <td>23.781060</td>\n",
       "      <td>4.473759</td>\n",
       "    </tr>\n",
       "    <tr>\n",
       "      <th>75%</th>\n",
       "      <td>26.959503</td>\n",
       "      <td>6.442401</td>\n",
       "    </tr>\n",
       "    <tr>\n",
       "      <th>max</th>\n",
       "      <td>29.679275</td>\n",
       "      <td>9.883738</td>\n",
       "    </tr>\n",
       "  </tbody>\n",
       "</table>\n",
       "</div>"
      ],
      "text/plain": [
       "       Temperature  Precipitation\n",
       "count    30.000000      30.000000\n",
       "mean     23.716805       4.517062\n",
       "std       4.274455       2.567699\n",
       "min      15.303276       0.187898\n",
       "25%      21.407069       2.466421\n",
       "50%      23.781060       4.473759\n",
       "75%      26.959503       6.442401\n",
       "max      29.679275       9.883738"
      ]
     },
     "execution_count": 35,
     "metadata": {},
     "output_type": "execute_result"
    }
   ],
   "source": [
    "df = pd.read_csv('Weather_data.csv', dtype={'Day':'string', 'Temperature':'float', 'Precipitation':'float'})\n",
    "print(df.head())\n",
    "df.shape\n",
    "df.info()\n",
    "df.describe()"
   ]
  },
  {
   "cell_type": "code",
   "execution_count": 34,
   "id": "37120cc1",
   "metadata": {},
   "outputs": [
    {
     "name": "stdout",
     "output_type": "stream",
     "text": [
      "   Day  Temperature  Precipitation\n",
      "0    1    23.232203       2.645556\n",
      "1    2    25.727840       7.742337\n",
      "2    3    24.041451       4.561503\n",
      "3    4    23.173248       5.684339\n",
      "4    5    21.354822       0.187898\n"
     ]
    },
    {
     "data": {
      "text/html": [
       "<div>\n",
       "<style scoped>\n",
       "    .dataframe tbody tr th:only-of-type {\n",
       "        vertical-align: middle;\n",
       "    }\n",
       "\n",
       "    .dataframe tbody tr th {\n",
       "        vertical-align: top;\n",
       "    }\n",
       "\n",
       "    .dataframe thead th {\n",
       "        text-align: right;\n",
       "    }\n",
       "</style>\n",
       "<table border=\"1\" class=\"dataframe\">\n",
       "  <thead>\n",
       "    <tr style=\"text-align: right;\">\n",
       "      <th></th>\n",
       "      <th>Day</th>\n",
       "      <th>Temperature</th>\n",
       "      <th>Precipitation</th>\n",
       "      <th>Day_str</th>\n",
       "    </tr>\n",
       "  </thead>\n",
       "  <tbody>\n",
       "    <tr>\n",
       "      <th>0</th>\n",
       "      <td>1</td>\n",
       "      <td>23.232203</td>\n",
       "      <td>2.645556</td>\n",
       "      <td>1</td>\n",
       "    </tr>\n",
       "    <tr>\n",
       "      <th>1</th>\n",
       "      <td>2</td>\n",
       "      <td>25.727840</td>\n",
       "      <td>7.742337</td>\n",
       "      <td>2</td>\n",
       "    </tr>\n",
       "    <tr>\n",
       "      <th>2</th>\n",
       "      <td>3</td>\n",
       "      <td>24.041451</td>\n",
       "      <td>4.561503</td>\n",
       "      <td>3</td>\n",
       "    </tr>\n",
       "    <tr>\n",
       "      <th>3</th>\n",
       "      <td>4</td>\n",
       "      <td>23.173248</td>\n",
       "      <td>5.684339</td>\n",
       "      <td>4</td>\n",
       "    </tr>\n",
       "    <tr>\n",
       "      <th>4</th>\n",
       "      <td>5</td>\n",
       "      <td>21.354822</td>\n",
       "      <td>0.187898</td>\n",
       "      <td>5</td>\n",
       "    </tr>\n",
       "    <tr>\n",
       "      <th>5</th>\n",
       "      <td>6</td>\n",
       "      <td>24.688412</td>\n",
       "      <td>6.176355</td>\n",
       "      <td>6</td>\n",
       "    </tr>\n",
       "    <tr>\n",
       "      <th>6</th>\n",
       "      <td>7</td>\n",
       "      <td>21.563808</td>\n",
       "      <td>6.120957</td>\n",
       "      <td>7</td>\n",
       "    </tr>\n",
       "    <tr>\n",
       "      <th>7</th>\n",
       "      <td>8</td>\n",
       "      <td>28.376595</td>\n",
       "      <td>6.169340</td>\n",
       "      <td>8</td>\n",
       "    </tr>\n",
       "    <tr>\n",
       "      <th>8</th>\n",
       "      <td>9</td>\n",
       "      <td>29.454941</td>\n",
       "      <td>9.437481</td>\n",
       "      <td>9</td>\n",
       "    </tr>\n",
       "    <tr>\n",
       "      <th>9</th>\n",
       "      <td>10</td>\n",
       "      <td>20.751623</td>\n",
       "      <td>6.818203</td>\n",
       "      <td>10</td>\n",
       "    </tr>\n",
       "    <tr>\n",
       "      <th>10</th>\n",
       "      <td>11</td>\n",
       "      <td>26.875876</td>\n",
       "      <td>3.595079</td>\n",
       "      <td>11</td>\n",
       "    </tr>\n",
       "    <tr>\n",
       "      <th>11</th>\n",
       "      <td>12</td>\n",
       "      <td>22.933424</td>\n",
       "      <td>4.370320</td>\n",
       "      <td>12</td>\n",
       "    </tr>\n",
       "    <tr>\n",
       "      <th>12</th>\n",
       "      <td>13</td>\n",
       "      <td>23.520668</td>\n",
       "      <td>6.976312</td>\n",
       "      <td>13</td>\n",
       "    </tr>\n",
       "    <tr>\n",
       "      <th>13</th>\n",
       "      <td>14</td>\n",
       "      <td>28.883950</td>\n",
       "      <td>0.602255</td>\n",
       "      <td>14</td>\n",
       "    </tr>\n",
       "    <tr>\n",
       "      <th>14</th>\n",
       "      <td>15</td>\n",
       "      <td>16.065541</td>\n",
       "      <td>6.667667</td>\n",
       "      <td>15</td>\n",
       "    </tr>\n",
       "    <tr>\n",
       "      <th>15</th>\n",
       "      <td>16</td>\n",
       "      <td>16.306939</td>\n",
       "      <td>6.706379</td>\n",
       "      <td>16</td>\n",
       "    </tr>\n",
       "    <tr>\n",
       "      <th>16</th>\n",
       "      <td>17</td>\n",
       "      <td>15.303276</td>\n",
       "      <td>2.103826</td>\n",
       "      <td>17</td>\n",
       "    </tr>\n",
       "    <tr>\n",
       "      <th>17</th>\n",
       "      <td>18</td>\n",
       "      <td>27.489298</td>\n",
       "      <td>1.289263</td>\n",
       "      <td>18</td>\n",
       "    </tr>\n",
       "    <tr>\n",
       "      <th>18</th>\n",
       "      <td>19</td>\n",
       "      <td>26.672351</td>\n",
       "      <td>3.154284</td>\n",
       "      <td>19</td>\n",
       "    </tr>\n",
       "    <tr>\n",
       "      <th>19</th>\n",
       "      <td>20</td>\n",
       "      <td>28.050182</td>\n",
       "      <td>3.637108</td>\n",
       "      <td>20</td>\n",
       "    </tr>\n",
       "    <tr>\n",
       "      <th>20</th>\n",
       "      <td>21</td>\n",
       "      <td>29.679275</td>\n",
       "      <td>5.701968</td>\n",
       "      <td>21</td>\n",
       "    </tr>\n",
       "    <tr>\n",
       "      <th>21</th>\n",
       "      <td>22</td>\n",
       "      <td>26.987378</td>\n",
       "      <td>4.386015</td>\n",
       "      <td>22</td>\n",
       "    </tr>\n",
       "    <tr>\n",
       "      <th>22</th>\n",
       "      <td>23</td>\n",
       "      <td>21.922190</td>\n",
       "      <td>9.883738</td>\n",
       "      <td>23</td>\n",
       "    </tr>\n",
       "    <tr>\n",
       "      <th>23</th>\n",
       "      <td>24</td>\n",
       "      <td>26.707938</td>\n",
       "      <td>1.020448</td>\n",
       "      <td>24</td>\n",
       "    </tr>\n",
       "    <tr>\n",
       "      <th>24</th>\n",
       "      <td>25</td>\n",
       "      <td>16.774116</td>\n",
       "      <td>2.088768</td>\n",
       "      <td>25</td>\n",
       "    </tr>\n",
       "    <tr>\n",
       "      <th>25</th>\n",
       "      <td>26</td>\n",
       "      <td>24.598815</td>\n",
       "      <td>1.613095</td>\n",
       "      <td>26</td>\n",
       "    </tr>\n",
       "    <tr>\n",
       "      <th>26</th>\n",
       "      <td>27</td>\n",
       "      <td>17.150299</td>\n",
       "      <td>6.531083</td>\n",
       "      <td>27</td>\n",
       "    </tr>\n",
       "    <tr>\n",
       "      <th>27</th>\n",
       "      <td>28</td>\n",
       "      <td>29.170034</td>\n",
       "      <td>2.532916</td>\n",
       "      <td>28</td>\n",
       "    </tr>\n",
       "    <tr>\n",
       "      <th>28</th>\n",
       "      <td>29</td>\n",
       "      <td>22.827725</td>\n",
       "      <td>4.663108</td>\n",
       "      <td>29</td>\n",
       "    </tr>\n",
       "    <tr>\n",
       "      <th>29</th>\n",
       "      <td>30</td>\n",
       "      <td>21.219929</td>\n",
       "      <td>2.444256</td>\n",
       "      <td>30</td>\n",
       "    </tr>\n",
       "  </tbody>\n",
       "</table>\n",
       "</div>"
      ],
      "text/plain": [
       "    Day  Temperature  Precipitation Day_str\n",
       "0     1    23.232203       2.645556       1\n",
       "1     2    25.727840       7.742337       2\n",
       "2     3    24.041451       4.561503       3\n",
       "3     4    23.173248       5.684339       4\n",
       "4     5    21.354822       0.187898       5\n",
       "5     6    24.688412       6.176355       6\n",
       "6     7    21.563808       6.120957       7\n",
       "7     8    28.376595       6.169340       8\n",
       "8     9    29.454941       9.437481       9\n",
       "9    10    20.751623       6.818203      10\n",
       "10   11    26.875876       3.595079      11\n",
       "11   12    22.933424       4.370320      12\n",
       "12   13    23.520668       6.976312      13\n",
       "13   14    28.883950       0.602255      14\n",
       "14   15    16.065541       6.667667      15\n",
       "15   16    16.306939       6.706379      16\n",
       "16   17    15.303276       2.103826      17\n",
       "17   18    27.489298       1.289263      18\n",
       "18   19    26.672351       3.154284      19\n",
       "19   20    28.050182       3.637108      20\n",
       "20   21    29.679275       5.701968      21\n",
       "21   22    26.987378       4.386015      22\n",
       "22   23    21.922190       9.883738      23\n",
       "23   24    26.707938       1.020448      24\n",
       "24   25    16.774116       2.088768      25\n",
       "25   26    24.598815       1.613095      26\n",
       "26   27    17.150299       6.531083      27\n",
       "27   28    29.170034       2.532916      28\n",
       "28   29    22.827725       4.663108      29\n",
       "29   30    21.219929       2.444256      30"
      ]
     },
     "execution_count": 34,
     "metadata": {},
     "output_type": "execute_result"
    }
   ],
   "source": [
    "print(df.head())\n",
    "df['Day_str'] = df['Day'].astype('string')\n",
    "df"
   ]
  },
  {
   "cell_type": "code",
   "execution_count": 38,
   "id": "de79ce0a",
   "metadata": {},
   "outputs": [
    {
     "data": {
      "text/plain": [
       "0      1st\n",
       "1      2nd\n",
       "2      3rd\n",
       "3      4th\n",
       "4      5th\n",
       "5      6th\n",
       "6      7th\n",
       "7      8th\n",
       "8      9th\n",
       "9     10th\n",
       "10    11th\n",
       "11    12th\n",
       "12    13th\n",
       "13    14th\n",
       "14    15th\n",
       "15    16th\n",
       "16    17th\n",
       "17    18th\n",
       "18    19th\n",
       "19    20th\n",
       "20    21th\n",
       "21    22th\n",
       "22    23th\n",
       "23    24th\n",
       "24    25th\n",
       "25    26th\n",
       "26    27th\n",
       "27    28th\n",
       "28    29th\n",
       "29    30th\n",
       "Name: Day_str, dtype: object"
      ]
     },
     "execution_count": 38,
     "metadata": {},
     "output_type": "execute_result"
    }
   ],
   "source": [
    "df['Day_str'] = df['Day'].astype('string')\n",
    "df['Day_str'].apply(lambda x: x+'th' if int(x)> 3 else x+'st' if int(x)==1 else x+'nd' if int(x)==2 else x+'rd')\n"
   ]
  },
  {
   "cell_type": "code",
   "execution_count": null,
   "id": "1789378d",
   "metadata": {},
   "outputs": [],
   "source": [
    "#df.loc[df['Temperature']<low, 'Temperature'] = low"
   ]
  }
 ],
 "metadata": {
  "kernelspec": {
   "display_name": "Python 3 [3.10]",
   "language": "python",
   "name": "python3"
  },
  "language_info": {
   "codemirror_mode": {
    "name": "ipython",
    "version": 3
   },
   "file_extension": ".py",
   "mimetype": "text/x-python",
   "name": "python",
   "nbconvert_exporter": "python",
   "pygments_lexer": "ipython3",
   "version": "3.10.12"
  }
 },
 "nbformat": 4,
 "nbformat_minor": 5
}
